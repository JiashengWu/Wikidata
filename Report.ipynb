{
 "cells": [
  {
   "cell_type": "markdown",
   "metadata": {},
   "source": [
    "# Report of Programming Challenge"
   ]
  },
  {
   "cell_type": "markdown",
   "metadata": {},
   "source": [
    "My custom class `Wikidata` is attached at the bottom, also you can find it on this [link](https://github.com/JiashengWu/Wikidata/blob/master/Wikidata.py)."
   ]
  },
  {
   "cell_type": "code",
   "execution_count": 1,
   "metadata": {},
   "outputs": [],
   "source": [
    "from Wikidata import Wikidata\n",
    "\n",
    "wikidata = Wikidata(r'programming_challenge/P*.txt')"
   ]
  },
  {
   "cell_type": "code",
   "execution_count": 2,
   "metadata": {},
   "outputs": [],
   "source": [
    "import time, os\n",
    "\n",
    "def test(relpath):\n",
    "    time_start = time.time()\n",
    "    strings = Wikidata.file_to_list(relpath)\n",
    "    scores = wikidata.find_property(strings)\n",
    "    time_used = time.time() - time_start\n",
    "    print('FILE: {}'.format(os.path.basename(relpath)))\n",
    "    print('TIME: {:.3f} s'.format(time_used))\n",
    "    for score in scores[0: 10]:\n",
    "        print(score)\n",
    "    if (len(scores) > 10):\n",
    "        print('...')"
   ]
  },
  {
   "cell_type": "markdown",
   "metadata": {},
   "source": [
    "## Tests"
   ]
  },
  {
   "cell_type": "code",
   "execution_count": 7,
   "metadata": {},
   "outputs": [
    {
     "name": "stdout",
     "output_type": "stream",
     "text": [
      "FILE: sample1.txt\n",
      "TIME: 0.047 s\n",
      "('P882_FIPS 6-4 (US counties).txt', 146)\n",
      "('P374_INSEE municipality code.txt', 124)\n",
      "('P830_Encyclopedia of Life ID.txt', 115)\n",
      "('P3064_LepIndex ID.txt', 109)\n",
      "('P6018_SeaLifeBase ID.txt', 108)\n",
      "('P354_HGNC ID.txt', 106)\n",
      "('P4129_Cinema Treasures ID.txt', 104)\n",
      "('P5736_Minor Planet Center body ID.txt', 97)\n",
      "('P815_ITIS TSN.txt', 97)\n",
      "('P3151_iNaturalist taxon ID.txt', 94)\n",
      "...\n"
     ]
    }
   ],
   "source": [
    "test('programming_challenge/sample1.txt')"
   ]
  },
  {
   "cell_type": "code",
   "execution_count": 8,
   "metadata": {},
   "outputs": [
    {
     "name": "stdout",
     "output_type": "stream",
     "text": [
      "FILE: sample2.txt\n",
      "TIME: 0.046 s\n",
      "('P3417_Quora topic ID.txt', 144)\n",
      "('P4024_ADW taxon ID.txt', 2)\n",
      "('P5242_ARWU university ID.txt', 1)\n",
      "('P3984_subreddit.txt', 1)\n",
      "('P3847_Open Library subject ID.txt', 0)\n",
      "('P6063_Scoresway basketball person ID.txt', 0)\n",
      "('P2518_Scope.dk film ID.txt', 0)\n",
      "('P2387_Elonet person ID.txt', 0)\n",
      "('P4358_Dutch lost building register ID.txt', 0)\n",
      "('P6071_Polish Olympic Committee athlete ID.txt', 0)\n",
      "...\n"
     ]
    }
   ],
   "source": [
    "test('programming_challenge/sample2.txt')"
   ]
  },
  {
   "cell_type": "code",
   "execution_count": 9,
   "metadata": {},
   "outputs": [
    {
     "name": "stdout",
     "output_type": "stream",
     "text": [
      "FILE: sample3.txt\n",
      "TIME: 0.009 s\n",
      "('P882_FIPS 6-4 (US counties).txt', 9)\n",
      "('P830_Encyclopedia of Life ID.txt', 8)\n",
      "('P3064_LepIndex ID.txt', 7)\n",
      "('P374_INSEE municipality code.txt', 7)\n",
      "('P354_HGNC ID.txt', 7)\n",
      "('P351_Entrez Gene ID.txt', 7)\n",
      "('P3143_elFilm film ID.txt', 7)\n",
      "('P772_INE municipality code.txt', 7)\n",
      "('P5736_Minor Planet Center body ID.txt', 6)\n",
      "('P4129_Cinema Treasures ID.txt', 6)\n",
      "...\n"
     ]
    }
   ],
   "source": [
    "test('programming_challenge/sample3.txt')"
   ]
  },
  {
   "cell_type": "code",
   "execution_count": 10,
   "metadata": {},
   "outputs": [
    {
     "name": "stdout",
     "output_type": "stream",
     "text": [
      "FILE: sample4.txt\n",
      "TIME: 0.010 s\n",
      "('P3417_Quora topic ID.txt', 9)\n",
      "('P5242_ARWU university ID.txt', 1)\n",
      "('P3847_Open Library subject ID.txt', 0)\n",
      "('P6063_Scoresway basketball person ID.txt', 0)\n",
      "('P2518_Scope.dk film ID.txt', 0)\n",
      "('P2387_Elonet person ID.txt', 0)\n",
      "('P4358_Dutch lost building register ID.txt', 0)\n",
      "('P6071_Polish Olympic Committee athlete ID.txt', 0)\n",
      "('P4605_South Dakota Sports Hall of Fame ID.txt', 0)\n",
      "('P2871_miRBase mature miRNA ID.txt', 0)\n",
      "...\n"
     ]
    }
   ],
   "source": [
    "test('programming_challenge/sample4.txt')"
   ]
  },
  {
   "cell_type": "markdown",
   "metadata": {},
   "source": [
    "## class `Wikidata`"
   ]
  },
  {
   "cell_type": "code",
   "execution_count": null,
   "metadata": {},
   "outputs": [],
   "source": [
    "import glob\n",
    "import os\n",
    "\n",
    "\n",
    "class Wikidata:\n",
    "    \"\"\"Wikidata class, which provide a function of find_property().\n",
    "\n",
    "    Attributes:\n",
    "        paths (list): The file paths of the Wikidata property files.\n",
    "        data (dict): Data stored as {path: example_set}.\n",
    "    \"\"\"\n",
    "\n",
    "    def __init__(self, relpath):\n",
    "        \"\"\"The constructor of Wikidata class.\n",
    "        Read the input files only once, and store them in class attribute 'data'.\n",
    "\n",
    "        Parameters:\n",
    "            relpath (string): The relative path of the Wikidata property files.\n",
    "        \"\"\"\n",
    "        self.paths = glob.glob(relpath)\n",
    "        self.data = {}\n",
    "        for path in self.paths:\n",
    "            self.data[path] = set(self.file_to_list(path))\n",
    "\n",
    "    def find_property(self, strings):\n",
    "        \"\"\"Find property score (the number of strings in the input that are contained in a file).\n",
    "\n",
    "        Parameters:\n",
    "            strings (list): The input list of strings.\n",
    "        Returns:\n",
    "            scores (list): A sorted list of tuples of the form (filename, score).\n",
    "        \"\"\"\n",
    "        scores = []\n",
    "        for path, examples in self.data.items():\n",
    "            score = 0\n",
    "            for string in strings:\n",
    "                if string in examples:\n",
    "                    score += 1\n",
    "            scores.append((os.path.basename(path), score))\n",
    "        scores = sorted(scores, key=lambda x: x[1], reverse=True)\n",
    "        return scores\n",
    "\n",
    "    @ staticmethod\n",
    "    def file_to_list(relpath):\n",
    "        \"\"\"Convert a Wikidata property file to a list of strings.\n",
    "\n",
    "        Parameters:\n",
    "            relpath (string): The relative path of ONE Wikidata property file.\n",
    "        Returns:\n",
    "            examples (list): A list contains all examples in the input file.\n",
    "        \"\"\"\n",
    "        examples = []\n",
    "        with open(relpath, mode='r') as property:  # Wikidata property\n",
    "            for line in property:\n",
    "                examples.append(line.strip())\n",
    "        return examples\n",
    "\n",
    "\n",
    "if __name__ == '__main__':\n",
    "    wikidata = Wikidata(r'programming_challenge/P*.txt')\n",
    "    strings = Wikidata.file_to_list('programming_challenge/sample1.txt')\n",
    "    scores = wikidata.find_property(strings)\n",
    "    print(scores)\n"
   ]
  }
 ],
 "metadata": {
  "kernelspec": {
   "display_name": "Python 3",
   "language": "python",
   "name": "python3"
  },
  "language_info": {
   "codemirror_mode": {
    "name": "ipython",
    "version": 3
   },
   "file_extension": ".py",
   "mimetype": "text/x-python",
   "name": "python",
   "nbconvert_exporter": "python",
   "pygments_lexer": "ipython3",
   "version": "3.7.1"
  }
 },
 "nbformat": 4,
 "nbformat_minor": 2
}
